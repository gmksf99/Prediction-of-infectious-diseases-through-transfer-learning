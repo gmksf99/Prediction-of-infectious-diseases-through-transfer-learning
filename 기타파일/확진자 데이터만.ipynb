{
 "cells": [
  {
   "cell_type": "code",
   "execution_count": 14,
   "id": "organizational-mailing",
   "metadata": {},
   "outputs": [],
   "source": [
    "import pandas as pd\n",
    "import numpy as np\n",
    "import matplotlib.pyplot as plt\n",
    "from math import sqrt\n",
    "import keras\n",
    "from sklearn.preprocessing import MinMaxScaler\n",
    "import tensorflow as tf\n",
    "import seaborn as sns\n",
    "from numpy import array\n",
    "from numpy import hstack\n",
    "from sklearn.metrics import mean_squared_error, explained_variance_score\n",
    "from keras.callbacks import EarlyStopping\n",
    "from matplotlib import font_manager, rc\n",
    "from keras.models import Model\n",
    "from keras import layers\n",
    "from keras import Input\n",
    "import keras\n",
    "from keras.models import Model\n",
    "from keras.models import Sequential\n",
    "from keras.layers import Conv1D, MaxPooling1D, Flatten\n",
    "from keras.layers import Dense\n",
    "import math\n",
    "\n",
    "# 일변량 / ts : time_step / lag : 얼마 뒤 예측을 할것인가 / duration : 얼마를 예측할 것인가\n",
    "def time_step(data, ts, lag, duration):\n",
    "    dataX = []\n",
    "    dataY = []\n",
    "    \n",
    "    for i in range(len(data)-ts-(lag-1)-(duration-1)):\n",
    "        dataX.append(data[i:i+ts])\n",
    "        dataY.append(data[i+ts+lag-1:i+ts+lag-1+duration])\n",
    "    dataX = np.array(dataX)\n",
    "    dataY = np.array(dataY)  \n",
    "\n",
    "    return dataX, dataY\n",
    "\n",
    "# 다변량\n",
    "def split_mult_data(data, timestep, lag):\n",
    "    x, y = [], []\n",
    "    for i in range(len(data)):\n",
    "        end_ix = i + timestep\n",
    "        out_end_ix = end_ix + lag\n",
    "        if out_end_ix > len(data):\n",
    "            break;\n",
    "        seq_x, seq_y = data[i:end_ix, :], data[end_ix:out_end_ix, 0]\n",
    "        x.append(seq_x)\n",
    "        y.append(seq_y)\n",
    "    return array(x), array(y)\n",
    "\n",
    "# 분할 데이터 정규화\n",
    "def normalization(data_train, data_val, data_test):\n",
    "    scaler = MinMaxScaler() #StandardScaler\n",
    "    scaler.fit(data_train)\n",
    "    n_data_train = scaler.transform(data_train)\n",
    "    n_data_val = scaler.transform(data_val)\n",
    "    n_data_test = scaler.transform(data_test)\n",
    "    return n_data_train, n_data_val, n_data_test"
   ]
  },
  {
   "cell_type": "code",
   "execution_count": 3,
   "id": "promising-devon",
   "metadata": {
    "scrolled": false
   },
   "outputs": [
    {
     "data": {
      "text/plain": [
       "array([   1,    0,    0,    0,    1,    0,    1,    1,    0,    0,    0,\n",
       "          7,    1,    3,    0,    1,    3,    4,    1,    0,    1,    2,\n",
       "          1,    0,    0,    0,    0,    1,    1,    1,    0,   73,  100,\n",
       "        229,  169,  231,  144,  284,  505,  571,  813,  586,  599,  851,\n",
       "        435,  467,  505,  448,  273,  164,   35,  242,  114,  110,  107,\n",
       "         76,   74,   84,   93,  152,   87,  147,  162,    0,   76,  100,\n",
       "        104,   91,  146,  105,   78,  125,  101,   89,   86,   94,   81,\n",
       "         47,   47,   53,   39,   27,   30,   32,   25,   27,   27,   22,\n",
       "         22,   18,    8,   13,    9,   11,   14,   10,   10,   10,   14,\n",
       "          9,    4,    9,    6,   13,    8,    3,    2,    4,   12,   18,\n",
       "         34,   35,   27,   26,   29,   27,   19,   13,   15,   13,   32,\n",
       "         12,   20,   23,   25,   16,   19,   40,   79,   58,   39,   27,\n",
       "         35,   38,   49,   39,   39,   51,   57,   38,   38,   50,   45,\n",
       "         56,   48,   34,   36,   34,   43,   59,   49,   67,   48,   17,\n",
       "         46,   51,   28,   39,   51,   62,   42,   43,   50,   54,   63,\n",
       "         63,   61,   46,   44,   63,   49,   45,   35,   44,   62,   33,\n",
       "         39,   61,   60,   39,   34,   26,   45,   63,   59,   41,  113,\n",
       "         58,   25,   28,   48,   18,   36,   31,   30,   23,   34,   33,\n",
       "         43,   20,   43,   36,   28,   34,   54,   56,  103,  166,  279,\n",
       "        197,  246,  297,  288,  324,  332,  397,  266,  280,  320,  441,\n",
       "        371,  323,  299,  248,  235,  267,  195,  198,  168,  167,  119,\n",
       "        136,  156,  155,  176,  136,  121,  109,  106,  113,  153,  126,\n",
       "        110,   82,   70,   61,  110,  125,  114,   61,   95,   50,   38,\n",
       "        113,   77,   63,   75,   64,   73,   75,  114,   69,   54,   72,\n",
       "         58,   97,  102,   84,   99,   47,   73,   91,   76,   58,   91,\n",
       "        119,  155,   77,   61,  119,   88,  103,  125,  114,  126,  124,\n",
       "         97,   75,  118,  125,  145,   89,  143,  126,  100,  146,  143,\n",
       "        191,  205,  208,  223,  229,  313,  343,  363,  386,  330,  271,\n",
       "        349,  382,  583,  569,  488,  449,  377,  451,  511,  540,  629,\n",
       "        583,  631,  615,  594,  677,  666,  688,  950, 1030,  718,  880,\n",
       "       1078, 1011, 1062, 1055, 1095,  926,  869, 1090,  983, 1237, 1132,\n",
       "        970,  808, 1045, 1048,  967, 1029,  824,  651, 1020,  715,  839,\n",
       "        868,  672,  641,  665,  450,  537,  561,  516,  513,  579,  520,\n",
       "        389,  386,  403,  400,  344,  430,  392,  437,  354,  554,  497,\n",
       "        469,  455,  355,  303,  336,  467,  451,  369,  393,  372,  289,\n",
       "        302,  443,  504,  403,  362,  326,  344,  456,  621,  621,  561,\n",
       "        446,  418,  332,  357,  439,  396,  406,  399,  355,  355,  341,\n",
       "        444,  424,  398,  417,  416,  346,  446,  470,  465,  488,  490,\n",
       "        459,  382,  363,  469,  445,  463,  452,  456,  410,  346,  425,\n",
       "        430,  494,  505,  482,  384,  441], dtype=int64)"
      ]
     },
     "execution_count": 3,
     "metadata": {},
     "output_type": "execute_result"
    }
   ],
   "source": [
    "# 코로나 데이터\n",
    "covid19 = pd.read_csv(\"covid19.csv\",  header=0, squeeze=True)\n",
    "covid19 = covid19[{'decide_per_day' : '확진자', 'recovered_per_day' : '완치자', 'death_per_day' : '사망자'}]\n",
    "covid19.columns = ['확진자', '완치자', '사망자']\n",
    "covid19 = covid19['확진자']\n",
    "covid19 = covid19.values\n",
    "covid19"
   ]
  },
  {
   "cell_type": "code",
   "execution_count": 7,
   "id": "greek-trainer",
   "metadata": {},
   "outputs": [],
   "source": [
    "data_X, data_Y = time_step(covid19, 7, 1, 1)\n",
    "\n",
    "# 데이터 분할\n",
    "NUM_TRAIN = int(data_X.shape[0] * 0.6)\n",
    "NUM_VAL = int(data_X.shape[0] * 0.8)\n",
    "\n",
    "train_X = data_X[:NUM_TRAIN]\n",
    "covid_train_y = data_Y[:NUM_TRAIN]\n",
    "\n",
    "val_X = data_X[NUM_TRAIN:NUM_VAL]\n",
    "covid_val_y = data_Y[NUM_TRAIN:NUM_VAL]\n",
    "\n",
    "test_X = data_X[NUM_VAL:]\n",
    "covid_test_y =data_Y[NUM_VAL:]\n",
    "\n",
    "covid_train_x, covid_val_x, covid_test_x = normalization(train_X, val_X, test_X)"
   ]
  },
  {
   "cell_type": "code",
   "execution_count": null,
   "id": "copyrighted-semester",
   "metadata": {},
   "outputs": [],
   "source": [
    "rmse =[]\n",
    "r2 = []\n",
    "    \n",
    "for ts in range(1, 7, 1): \n",
    "\n",
    "    data_X, data_Y = time_step(covid19, ts, 1, 1)\n",
    "\n",
    "    # 데이터 분할\n",
    "    NUM_TRAIN = int(data_X.shape[0] * 0.6)\n",
    "    NUM_VAL = int(data_X.shape[0] * 0.8)\n",
    "\n",
    "    train_X = data_X[:NUM_TRAIN]\n",
    "    covid_train_y = data_Y[:NUM_TRAIN]\n",
    "\n",
    "    val_X = data_X[NUM_TRAIN:NUM_VAL]\n",
    "    covid_val_y = data_Y[NUM_TRAIN:NUM_VAL]\n",
    "\n",
    "    test_X = data_X[NUM_VAL:]\n",
    "    covid_test_y =data_Y[NUM_VAL:]\n",
    "\n",
    "    covid_train_x, covid_val_x, covid_test_x = normalization(train_X, val_X, test_X)\n",
    "\n",
    "    tf.random.set_seed(555)\n",
    "\n",
    "    # define model\n",
    "    model = Sequential()\n",
    "    model.add(Dense(32, activation='relu',input_shape=(covid_train_x.shape[1],))\n",
    "    model.add(Dense(16, activation='relu'))\n",
    "    model.add(Dense(8, activation='relu'))\n",
    "    model.add(Dense(1))\n",
    "    model.compile(optimizer='adam', loss='mse', metrics=['mae'])\n",
    "\n",
    "    early_stopping = EarlyStopping(monitor='val_loss', patience=20)\n",
    "\n",
    "    # fit model\n",
    "    hist = model.fit(covid_train_x, covid_train_y, epochs=1000, batch_size=5, callbacks=early_stopping, \n",
    "                     validation_data=(covid_val_x, covid_val_y))\n",
    "\n",
    "    y_predict = model.predict(covid_test_x) ####\n",
    "\n",
    "    # 에러율 - Root Mean Squared Error\n",
    "    Rmse = round(math.sqrt(mean_squared_error(y_predict, covid_test_y)), 2)\n",
    "    R2 = round(explained_variance_score(covid_test_y, y_predict), 2)\n",
    "\n",
    "    rmse.append(Rmse)\n",
    "    r2.append(R2)"
   ]
  },
  {
   "cell_type": "code",
   "execution_count": 20,
   "id": "bridal-miniature",
   "metadata": {},
   "outputs": [
    {
     "data": {
      "text/plain": [
       "[89.72, 86.16, 84.11, 84.79, 81.89, 92.72]"
      ]
     },
     "execution_count": 20,
     "metadata": {},
     "output_type": "execute_result"
    }
   ],
   "source": [
    "rmse"
   ]
  },
  {
   "cell_type": "code",
   "execution_count": 21,
   "id": "metallic-outside",
   "metadata": {},
   "outputs": [
    {
     "data": {
      "text/plain": [
       "[0.52, 0.54, 0.55, 0.55, 0.58, 0.54]"
      ]
     },
     "execution_count": 21,
     "metadata": {},
     "output_type": "execute_result"
    }
   ],
   "source": [
    "r2"
   ]
  },
  {
   "cell_type": "code",
   "execution_count": 10,
   "id": "acute-armstrong",
   "metadata": {},
   "outputs": [
    {
     "data": {
      "image/png": "[encoded data removed]",
      "text/plain": [
       "<Figure size 432x288 with 1 Axes>"
      ]
     },
     "metadata": {
      "needs_background": "light"
     },
     "output_type": "display_data"
    },
    {
     "name": "stdout",
     "output_type": "stream",
     "text": [
      "RMSE:  89.43\n",
      "R-Square:  0.54\n"
     ]
    },
    {
     "data": {
      "image/png": "[encoded data removed]",
      "text/plain": [
       "<Figure size 432x288 with 1 Axes>"
      ]
     },
     "metadata": {
      "needs_background": "light"
     },
     "output_type": "display_data"
    },
    {
     "name": "stdout",
     "output_type": "stream",
     "text": [
      "    y_test   y_predict\n",
      "0     1020  745.785522\n",
      "1      715  774.679993\n",
      "2      839  711.694336\n",
      "3      868  722.972412\n",
      "4      672  738.584717\n",
      "..     ...         ...\n",
      "81     494  372.271790\n",
      "82     505  404.806580\n",
      "83     482  433.940521\n",
      "84     384  452.481689\n",
      "85     441  422.330261\n",
      "\n",
      "[86 rows x 2 columns]\n"
     ]
    }
   ],
   "source": [
    "# 학습 시각화 함수\n",
    "def learning_graph(hist):\n",
    "    fig, loss_ax = plt.subplots()\n",
    "    loss_ax.plot(hist.history['loss'],'g', label='train loss')\n",
    "    loss_ax.plot(hist.history['val_loss'],'b', label='val loss')\n",
    "    loss_ax.set_xlabel('epoch')\n",
    "    loss_ax.set_ylabel('loss')\n",
    "    loss_ax.legend(loc='upper left')\n",
    "    plt.show()\n",
    "    \n",
    "learning_graph(hist)\n",
    "\n",
    "# 실제값, 예측값 그래프\n",
    "y_predict = model.predict(covid_test_x) ####\n",
    "\n",
    "# 에러율 - Root Mean Squared Error\n",
    "rmse = np.sqrt(mean_squared_error(y_predict, covid_test_y))\n",
    "print('RMSE: ',rmse.round(2))\n",
    "\n",
    "r = explained_variance_score(covid_test_y, y_predict)\n",
    "print('R-Square: ',r.round(2))\n",
    "\n",
    "fig, loss_ax = plt.subplots()\n",
    "loss_ax.plot(covid_test_y, label='y_test')\n",
    "loss_ax.plot(y_predict, label='y_predict')\n",
    "loss_ax.legend(loc='upper left')\n",
    "plt.show()\n",
    "\n",
    "df = pd.DataFrame(covid_test_y)\n",
    "df.insert(1,'y_predict',y_predict)\n",
    "df.rename(columns={0:'y_test'}, inplace=True)\n",
    "print(df)"
   ]
  },
  {
   "cell_type": "code",
   "execution_count": null,
   "id": "convertible-tribute",
   "metadata": {},
   "outputs": [],
   "source": []
  },
  {
   "cell_type": "code",
   "execution_count": null,
   "id": "developmental-welcome",
   "metadata": {},
   "outputs": [],
   "source": []
  }
 ],
 "metadata": {
  "kernelspec": {
   "display_name": "lab",
   "language": "python",
   "name": "lab"
  },
  "language_info": {
   "codemirror_mode": {
    "name": "ipython",
    "version": 3
   },
   "file_extension": ".py",
   "mimetype": "text/x-python",
   "name": "python",
   "nbconvert_exporter": "python",
   "pygments_lexer": "ipython3",
   "version": "3.7.9"
  }
 },
 "nbformat": 4,
 "nbformat_minor": 5
}
